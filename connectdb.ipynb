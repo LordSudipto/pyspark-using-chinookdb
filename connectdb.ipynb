{
 "cells": [
  {
   "cell_type": "code",
   "execution_count": 1,
   "metadata": {},
   "outputs": [],
   "source": [
    "from pyspark import SparkContext, SparkConf, SQLContext\n",
    "from pyspark.sql.functions import col, sum, concat_ws, collect_list"
   ]
  },
  {
   "cell_type": "code",
   "execution_count": 2,
   "metadata": {},
   "outputs": [
    {
     "name": "stderr",
     "output_type": "stream",
     "text": [
      "c:\\Users\\sudip\\anaconda3\\envs\\suddata\\Lib\\site-packages\\pyspark\\sql\\context.py:113: FutureWarning: Deprecated in 3.0.0. Use SparkSession.builder.getOrCreate() instead.\n",
      "  warnings.warn(\n"
     ]
    }
   ],
   "source": [
    "# CREATE SPARK SESSION (DEPRECATED BUT WORKING)\n",
    "\n",
    "appName = \"PySpark SQL Server Example - via JDBC\"\n",
    "master = \"local\"\n",
    "conf = SparkConf().setAppName(appName).setMaster(master).set(\"spark.driver.extraClassPath\", \"C:/spark/sqljdbc_12.8/enu/jars/mssql-jdbc-12.8.1.jre11.jar\")\n",
    "sc = SparkContext(conf=conf)\n",
    "sqlContext = SQLContext(sc)\n",
    "spark = sqlContext.sparkSession"
   ]
  },
  {
   "cell_type": "code",
   "execution_count": 3,
   "metadata": {},
   "outputs": [],
   "source": [
    "# VARIABLES NEEDED TO MAKE CONNECTION AND TABLE NAMES\n",
    "database = \"Chinook\"\n",
    "user = \"SUDIPTOMW7\"\n",
    "password = \"password\"\n",
    "jdbc_url = f\"jdbc:sqlserver://localhost:1433;databaseName={database};encrypt=true;trustServerCertificate=true\"\n",
    "\n",
    "album, artist, customer, employee, genre, invoice, invoice_line, media_type, playlist, playlist_track, track = \"dbo.Album\", \"dbo.Artist\",\\\n",
    "    \"dbo.Customer\", \"dbo.Employee\", \"dbo.Genre\",\\\n",
    "    \"dbo.Invoice\", \"dbo.InvoiceLine\", \"dbo.MediaType\",\\\n",
    "    \"dbo.Playlist\", \"dbo.PlaylistTrack\", \"dbo.Track\""
   ]
  },
  {
   "cell_type": "code",
   "execution_count": 4,
   "metadata": {},
   "outputs": [],
   "source": [
    "# CREATE DF FOR EACH TABLE USING JDBC\n",
    "\n",
    "album_df = spark.read.format(\"jdbc\").option(\"url\", jdbc_url).option(\"dbtable\", album).option(\"user\", user)\\\n",
    "    .option(\"password\", password).option(\"driver\", \"com.microsoft.sqlserver.jdbc.SQLServerDriver\").load()\n",
    "\n",
    "artist_df = spark.read.format(\"jdbc\").option(\"url\", jdbc_url).option(\"dbtable\", artist).option(\"user\", user)\\\n",
    "    .option(\"password\", password).option(\"driver\", \"com.microsoft.sqlserver.jdbc.SQLServerDriver\").load()\n",
    "\n",
    "customer_df = spark.read.format(\"jdbc\").option(\"url\", jdbc_url).option(\"dbtable\", customer).option(\"user\", user)\\\n",
    "    .option(\"password\", password).option(\"driver\", \"com.microsoft.sqlserver.jdbc.SQLServerDriver\").load()\n",
    "\n",
    "employee_df = spark.read.format(\"jdbc\").option(\"url\", jdbc_url).option(\"dbtable\", employee).option(\"user\", user)\\\n",
    "    .option(\"password\", password).option(\"driver\", \"com.microsoft.sqlserver.jdbc.SQLServerDriver\").load()\n",
    "\n",
    "genre_df = spark.read.format(\"jdbc\").option(\"url\", jdbc_url).option(\"dbtable\", genre).option(\"user\", user)\\\n",
    "    .option(\"password\", password).option(\"driver\", \"com.microsoft.sqlserver.jdbc.SQLServerDriver\").load()\n",
    "\n",
    "invoice_df = spark.read.format(\"jdbc\").option(\"url\", jdbc_url).option(\"dbtable\", invoice).option(\"user\", user)\\\n",
    "    .option(\"password\", password).option(\"driver\", \"com.microsoft.sqlserver.jdbc.SQLServerDriver\").load()\n",
    "\n",
    "invoice_line_df = spark.read.format(\"jdbc\").option(\"url\", jdbc_url).option(\"dbtable\", invoice_line).option(\"user\", user)\\\n",
    "    .option(\"password\", password).option(\"driver\", \"com.microsoft.sqlserver.jdbc.SQLServerDriver\").load()\n",
    "\n",
    "media_type_df = spark.read.format(\"jdbc\").option(\"url\", jdbc_url).option(\"dbtable\", media_type).option(\"user\", user)\\\n",
    "    .option(\"password\", password).option(\"driver\", \"com.microsoft.sqlserver.jdbc.SQLServerDriver\").load()\n",
    "\n",
    "playlist_df = spark.read.format(\"jdbc\").option(\"url\", jdbc_url).option(\"dbtable\", playlist).option(\"user\", user)\\\n",
    "    .option(\"password\", password).option(\"driver\", \"com.microsoft.sqlserver.jdbc.SQLServerDriver\").load()\n",
    "\n",
    "playlist_track_df = spark.read.format(\"jdbc\").option(\"url\", jdbc_url).option(\"dbtable\", playlist_track).option(\"user\", user)\\\n",
    "    .option(\"password\", password).option(\"driver\", \"com.microsoft.sqlserver.jdbc.SQLServerDriver\").load()\n",
    "\n",
    "track_df = spark.read.format(\"jdbc\").option(\"url\", jdbc_url).option(\"dbtable\", track).option(\"user\", user)\\\n",
    "    .option(\"password\", password).option(\"driver\", \"com.microsoft.sqlserver.jdbc.SQLServerDriver\").load()\n"
   ]
  },
  {
   "cell_type": "markdown",
   "metadata": {},
   "source": [
    "EASY"
   ]
  },
  {
   "cell_type": "code",
   "execution_count": 53,
   "metadata": {},
   "outputs": [
    {
     "name": "stdout",
     "output_type": "stream",
     "text": [
      "+--------+-----------+\n",
      "|Customer|Total_Sales|\n",
      "+--------+-----------+\n",
      "|      31|      37.62|\n",
      "|      53|      37.62|\n",
      "|      34|      39.62|\n",
      "|      28|      43.62|\n",
      "|      27|      37.62|\n",
      "|      26|      47.62|\n",
      "|      44|      41.62|\n",
      "|      12|      37.62|\n",
      "|      22|      39.62|\n",
      "|      47|      37.62|\n",
      "|       1|      39.62|\n",
      "|      52|      37.62|\n",
      "|      13|      37.62|\n",
      "|      16|      37.62|\n",
      "|       6|      49.62|\n",
      "|       3|      39.62|\n",
      "|      40|      38.62|\n",
      "|      20|      39.62|\n",
      "|      57|      46.62|\n",
      "|      54|      37.62|\n",
      "+--------+-----------+\n",
      "only showing top 20 rows\n",
      "\n"
     ]
    }
   ],
   "source": [
    "# 1. Retrieve the total sales (invoiced amount) for each customer.\n",
    "\n",
    "q1_df = customer_df.alias(\"c\").join(invoice_df.alias(\"i\"), col(\"c.CustomerId\") == col(\"i.CustomerId\"), \"inner\")\\\n",
    "    .groupBy(col(\"c.CustomerId\").alias(\"Customer\"))\\\n",
    "    .agg(sum(col(\"i.Total\")).alias(\"Total_Sales\"))\\\n",
    "    .show()"
   ]
  },
  {
   "cell_type": "code",
   "execution_count": 61,
   "metadata": {},
   "outputs": [
    {
     "name": "stdout",
     "output_type": "stream",
     "text": [
      "+--------+--------------------+--------------------+\n",
      "|ArtistId|                Name|              Albums|\n",
      "+--------+--------------------+--------------------+\n",
      "|       1|               AC/DC|For Those About T...|\n",
      "|       2|              Accept|Balls to the Wall...|\n",
      "|       3|           Aerosmith|            Big Ones|\n",
      "|       4|   Alanis Morissette|  Jagged Little Pill|\n",
      "|       5|     Alice In Chains|            Facelift|\n",
      "|       6|Antônio Carlos Jobim|Warner 25 Anos, C...|\n",
      "|       7|        Apocalyptica|Plays Metallica B...|\n",
      "|       8|          Audioslave|Audioslave, Out O...|\n",
      "|       9|            BackBeat| BackBeat Soundtrack|\n",
      "|      10|        Billy Cobham|The Best Of Billy...|\n",
      "|      11| Black Label Society|Alcohol Fueled Br...|\n",
      "|      12|       Black Sabbath|Black Sabbath, Bl...|\n",
      "|      13|          Body Count|          Body Count|\n",
      "|      14|     Bruce Dickinson|    Chemical Wedding|\n",
      "|      15|           Buddy Guy|The Best Of Buddy...|\n",
      "|      16|      Caetano Veloso|Prenda Minha, Soz...|\n",
      "|      17|       Chico Buarque|      Minha Historia|\n",
      "|      18|Chico Science & N...|Afrociberdelia, D...|\n",
      "|      19|        Cidade Negra|Acústico MTV [Liv...|\n",
      "|      20|        Cláudio Zoli|            Na Pista|\n",
      "+--------+--------------------+--------------------+\n",
      "only showing top 20 rows\n",
      "\n"
     ]
    }
   ],
   "source": [
    "# 2. List all albums by a specific artist (e.g., “Queen”).\n",
    "\n",
    "q2_df = artist_df.alias(\"ar\").join(album_df.alias(\"al\"), col(\"ar.ArtistId\") == col(\"al.ArtistId\"), \"inner\")\\\n",
    "    .groupBy(col(\"ar.ArtistId\"), col(\"ar.Name\"))\\\n",
    "    .agg(concat_ws(\", \", collect_list(col(\"al.Title\"))).alias(\"Albums\"))\\\n",
    "    .show()"
   ]
  },
  {
   "cell_type": "code",
   "execution_count": 65,
   "metadata": {},
   "outputs": [
    {
     "name": "stdout",
     "output_type": "stream",
     "text": [
      "+-----------------+--------------------+\n",
      "|            Genre|              Tracks|\n",
      "+-----------------+--------------------+\n",
      "|            World|Pura Elegancia; C...|\n",
      "|      Hip Hop/Rap|ZeroVinteUm; Quei...|\n",
      "|         TV Shows|Occupation / Prec...|\n",
      "|       Bossa Nova|Samba Da Bênção; ...|\n",
      "|            Latin|Jorge Da Capadóci...|\n",
      "| Sci Fi & Fantasy|Crossroads, Pt. 1...|\n",
      "|            Metal|Enter Sandman; Ma...|\n",
      "|             Rock|For Those About T...|\n",
      "|             Jazz|Desafinado; Garot...|\n",
      "|         R&B/Soul|Please Please Ple...|\n",
      "|            Drama|Don't Look Back; ...|\n",
      "|       Soundtrack|Vai-Vai 2001; X-9...|\n",
      "|Electronica/Dance|Just Another Stor...|\n",
      "|        Classical|Symphony No. 3 in...|\n",
      "|            Blues|First Time I Met ...|\n",
      "|      Alternative|War Pigs; Say Hel...|\n",
      "|    Rock And Roll|Money; Long Tall ...|\n",
      "|  Science Fiction|Battlestar Galact...|\n",
      "|              Pop|Dig-Dig, Lambe-La...|\n",
      "|      Heavy Metal|Wildest Dreams; R...|\n",
      "+-----------------+--------------------+\n",
      "only showing top 20 rows\n",
      "\n"
     ]
    }
   ],
   "source": [
    "# 3. Get a list of tracks from a specific genre (e.g., “Rock”).\n",
    "\n",
    "q3_df = track_df.alias(\"t\").join(genre_df.alias(\"g\"), col(\"t.GenreId\")==col(\"g.GenreId\"), \"inner\")\\\n",
    "    .groupBy(col(\"g.name\").alias(\"Genre\")).agg(concat_ws(\"; \", collect_list(col(\"t.name\"))).alias(\"Tracks\"))\\\n",
    "    .show()"
   ]
  },
  {
   "cell_type": "code",
   "execution_count": null,
   "metadata": {},
   "outputs": [],
   "source": [
    "# 4. Find the total number of invoices for each customer.\n",
    "\n"
   ]
  },
  {
   "cell_type": "code",
   "execution_count": null,
   "metadata": {},
   "outputs": [],
   "source": [
    "# 5 .Display the average track length (milliseconds) for each album.\n",
    "\n"
   ]
  },
  {
   "cell_type": "code",
   "execution_count": null,
   "metadata": {},
   "outputs": [],
   "source": [
    "# 6. Retrieve all customers from the “USA” and their invoices.\n",
    "\n"
   ]
  },
  {
   "cell_type": "code",
   "execution_count": null,
   "metadata": {},
   "outputs": [],
   "source": [
    "# 7. Show the total number of tracks in each genre.\n",
    "\n"
   ]
  },
  {
   "cell_type": "code",
   "execution_count": null,
   "metadata": {},
   "outputs": [],
   "source": [
    "# 8 .List all tracks from albums released in a specific year (e.g., 2010).\n",
    "\n"
   ]
  },
  {
   "cell_type": "code",
   "execution_count": null,
   "metadata": {},
   "outputs": [],
   "source": [
    "# 9. Find customers who have not placed any invoices.\n",
    "\n"
   ]
  },
  {
   "cell_type": "code",
   "execution_count": null,
   "metadata": {},
   "outputs": [],
   "source": [
    "# 10. Retrieve the most popular genres by total number of tracks.\n",
    "\n"
   ]
  },
  {
   "cell_type": "code",
   "execution_count": 5,
   "metadata": {},
   "outputs": [],
   "source": [
    "#spark.stop()"
   ]
  }
 ],
 "metadata": {
  "kernelspec": {
   "display_name": "suddata",
   "language": "python",
   "name": "python3"
  },
  "language_info": {
   "codemirror_mode": {
    "name": "ipython",
    "version": 3
   },
   "file_extension": ".py",
   "mimetype": "text/x-python",
   "name": "python",
   "nbconvert_exporter": "python",
   "pygments_lexer": "ipython3",
   "version": "3.12.0"
  }
 },
 "nbformat": 4,
 "nbformat_minor": 2
}
