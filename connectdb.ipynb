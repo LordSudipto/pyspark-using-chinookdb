{
 "cells": [
  {
   "cell_type": "code",
   "execution_count": 46,
   "metadata": {},
   "outputs": [],
   "source": [
    "from pyspark import SparkContext, SparkConf, SQLContext\n",
    "from pyspark.sql import SparkSession\n",
    "from pyspark.sql.functions import col, sum, concat_ws, collect_list, count, avg, upper, round, desc, asc\n",
    "import os\n",
    "from dotenv import load_dotenv, dotenv_values"
   ]
  },
  {
   "cell_type": "code",
   "execution_count": 2,
   "metadata": {},
   "outputs": [],
   "source": [
    "# VARIABLES NEEDED TO MAKE CONNECTION AND TABLE NAMES\n",
    "\n",
    "config = dotenv_values(\".env\")\n",
    "database = config[\"DATABASE\"]\n",
    "user = config[\"USER\"]\n",
    "password = config[\"PASS\"]\n",
    "port = config[\"PORT\"]\n",
    "server = config[\"SERVER\"]\n",
    "jdbc_url = f\"jdbc:sqlserver://{server}:{port};databaseName={database};encrypt=true;trustServerCertificate=true\"\n",
    "jdbc_driver_path = config[\"JDBC_DRIVER_PATH\"]\n",
    "\n",
    "album, artist, customer, employee, genre, invoice, invoice_line, media_type, playlist, playlist_track, track = \"dbo.Album\", \"dbo.Artist\",\\\n",
    "    \"dbo.Customer\", \"dbo.Employee\", \"dbo.Genre\",\\\n",
    "    \"dbo.Invoice\", \"dbo.InvoiceLine\", \"dbo.MediaType\",\\\n",
    "    \"dbo.Playlist\", \"dbo.PlaylistTrack\", \"dbo.Track\""
   ]
  },
  {
   "cell_type": "code",
   "execution_count": 3,
   "metadata": {},
   "outputs": [],
   "source": [
    "# CREATE SPARK SESSION \n",
    "\n",
    "spark = SparkSession.builder \\\n",
    "    .appName(\"PySpark using Chinook DB\") \\\n",
    "    .master(\"local\") \\\n",
    "    .config(\"spark.driver.extraClassPath\", jdbc_driver_path) \\\n",
    "    .getOrCreate()"
   ]
  },
  {
   "cell_type": "code",
   "execution_count": 35,
   "metadata": {},
   "outputs": [],
   "source": [
    "# CREATE DF FOR EACH TABLE USING JDBC\n",
    "\n",
    "album_df = spark.read.format(\"jdbc\").option(\"url\", jdbc_url).option(\"dbtable\", album).option(\"user\", user)\\\n",
    "    .option(\"password\", password).option(\"driver\", \"com.microsoft.sqlserver.jdbc.SQLServerDriver\").load()\n",
    "\n",
    "artist_df = spark.read.format(\"jdbc\").option(\"url\", jdbc_url).option(\"dbtable\", artist).option(\"user\", user)\\\n",
    "    .option(\"password\", password).option(\"driver\", \"com.microsoft.sqlserver.jdbc.SQLServerDriver\").load()\n",
    "\n",
    "customer_df = spark.read.format(\"jdbc\").option(\"url\", jdbc_url).option(\"dbtable\", customer).option(\"user\", user)\\\n",
    "    .option(\"password\", password).option(\"driver\", \"com.microsoft.sqlserver.jdbc.SQLServerDriver\").load()\n",
    "\n",
    "employee_df = spark.read.format(\"jdbc\").option(\"url\", jdbc_url).option(\"dbtable\", employee).option(\"user\", user)\\\n",
    "    .option(\"password\", password).option(\"driver\", \"com.microsoft.sqlserver.jdbc.SQLServerDriver\").load()\n",
    "\n",
    "genre_df = spark.read.format(\"jdbc\").option(\"url\", jdbc_url).option(\"dbtable\", genre).option(\"user\", user)\\\n",
    "    .option(\"password\", password).option(\"driver\", \"com.microsoft.sqlserver.jdbc.SQLServerDriver\").load()\n",
    "\n",
    "invoice_df = spark.read.format(\"jdbc\").option(\"url\", jdbc_url).option(\"dbtable\", invoice).option(\"user\", user)\\\n",
    "    .option(\"password\", password).option(\"driver\", \"com.microsoft.sqlserver.jdbc.SQLServerDriver\").load()\n",
    "\n",
    "invoice_line_df = spark.read.format(\"jdbc\").option(\"url\", jdbc_url).option(\"dbtable\", invoice_line).option(\"user\", user)\\\n",
    "    .option(\"password\", password).option(\"driver\", \"com.microsoft.sqlserver.jdbc.SQLServerDriver\").load()\n",
    "\n",
    "media_type_df = spark.read.format(\"jdbc\").option(\"url\", jdbc_url).option(\"dbtable\", media_type).option(\"user\", user)\\\n",
    "    .option(\"password\", password).option(\"driver\", \"com.microsoft.sqlserver.jdbc.SQLServerDriver\").load()\n",
    "\n",
    "playlist_df = spark.read.format(\"jdbc\").option(\"url\", jdbc_url).option(\"dbtable\", playlist).option(\"user\", user)\\\n",
    "    .option(\"password\", password).option(\"driver\", \"com.microsoft.sqlserver.jdbc.SQLServerDriver\").load()\n",
    "\n",
    "playlist_track_df = spark.read.format(\"jdbc\").option(\"url\", jdbc_url).option(\"dbtable\", playlist_track).option(\"user\", user)\\\n",
    "    .option(\"password\", password).option(\"driver\", \"com.microsoft.sqlserver.jdbc.SQLServerDriver\").load()\n",
    "\n",
    "track_df = spark.read.format(\"jdbc\").option(\"url\", jdbc_url).option(\"dbtable\", track).option(\"user\", user)\\\n",
    "    .option(\"password\", password).option(\"driver\", \"com.microsoft.sqlserver.jdbc.SQLServerDriver\").load()\n"
   ]
  },
  {
   "cell_type": "markdown",
   "metadata": {},
   "source": [
    "EASY"
   ]
  },
  {
   "cell_type": "code",
   "execution_count": 8,
   "metadata": {},
   "outputs": [
    {
     "name": "stdout",
     "output_type": "stream",
     "text": [
      "+--------+-----------+\n",
      "|Customer|Total_Sales|\n",
      "+--------+-----------+\n",
      "|      31|       37.6|\n",
      "|      53|       37.6|\n",
      "|      34|       39.6|\n",
      "|      28|       43.6|\n",
      "|      27|       37.6|\n",
      "|      26|       47.6|\n",
      "|      44|       41.6|\n",
      "|      12|       37.6|\n",
      "|      22|       39.6|\n",
      "|      47|       37.6|\n",
      "|       1|       39.6|\n",
      "|      52|       37.6|\n",
      "|      13|       37.6|\n",
      "|      16|       37.6|\n",
      "|       6|       49.6|\n",
      "|       3|       39.6|\n",
      "|      40|       38.6|\n",
      "|      20|       39.6|\n",
      "|      57|       46.6|\n",
      "|      54|       37.6|\n",
      "+--------+-----------+\n",
      "only showing top 20 rows\n",
      "\n"
     ]
    }
   ],
   "source": [
    "# 1. Retrieve the total sales (invoiced amount) for each customer.\n",
    "\n",
    "q1_df = customer_df.alias(\"c\").join(invoice_df.alias(\"i\"), col(\"c.CustomerId\") == col(\"i.CustomerId\"), \"inner\")\\\n",
    "    .groupBy(col(\"c.CustomerId\").alias(\"Customer\"))\\\n",
    "    .agg(round(sum(col(\"i.Total\")), 1).alias(\"Total_Sales\"))\\\n",
    "    .show()"
   ]
  },
  {
   "cell_type": "code",
   "execution_count": 61,
   "metadata": {},
   "outputs": [
    {
     "name": "stdout",
     "output_type": "stream",
     "text": [
      "+--------+--------------------+--------------------+\n",
      "|ArtistId|                Name|              Albums|\n",
      "+--------+--------------------+--------------------+\n",
      "|       1|               AC/DC|For Those About T...|\n",
      "|       2|              Accept|Balls to the Wall...|\n",
      "|       3|           Aerosmith|            Big Ones|\n",
      "|       4|   Alanis Morissette|  Jagged Little Pill|\n",
      "|       5|     Alice In Chains|            Facelift|\n",
      "|       6|Antônio Carlos Jobim|Warner 25 Anos, C...|\n",
      "|       7|        Apocalyptica|Plays Metallica B...|\n",
      "|       8|          Audioslave|Audioslave, Out O...|\n",
      "|       9|            BackBeat| BackBeat Soundtrack|\n",
      "|      10|        Billy Cobham|The Best Of Billy...|\n",
      "|      11| Black Label Society|Alcohol Fueled Br...|\n",
      "|      12|       Black Sabbath|Black Sabbath, Bl...|\n",
      "|      13|          Body Count|          Body Count|\n",
      "|      14|     Bruce Dickinson|    Chemical Wedding|\n",
      "|      15|           Buddy Guy|The Best Of Buddy...|\n",
      "|      16|      Caetano Veloso|Prenda Minha, Soz...|\n",
      "|      17|       Chico Buarque|      Minha Historia|\n",
      "|      18|Chico Science & N...|Afrociberdelia, D...|\n",
      "|      19|        Cidade Negra|Acústico MTV [Liv...|\n",
      "|      20|        Cláudio Zoli|            Na Pista|\n",
      "+--------+--------------------+--------------------+\n",
      "only showing top 20 rows\n",
      "\n"
     ]
    }
   ],
   "source": [
    "# 2. List all albums by a specific artist (e.g., “Queen”).\n",
    "\n",
    "q2_df = artist_df.alias(\"ar\").join(album_df.alias(\"al\"), col(\"ar.ArtistId\") == col(\"al.ArtistId\"), \"inner\")\\\n",
    "    .groupBy(col(\"ar.ArtistId\"), col(\"ar.Name\"))\\\n",
    "    .agg(concat_ws(\", \", collect_list(col(\"al.Title\"))).alias(\"Albums\"))\\\n",
    "    .show()"
   ]
  },
  {
   "cell_type": "code",
   "execution_count": 65,
   "metadata": {},
   "outputs": [
    {
     "name": "stdout",
     "output_type": "stream",
     "text": [
      "+-----------------+--------------------+\n",
      "|            Genre|              Tracks|\n",
      "+-----------------+--------------------+\n",
      "|            World|Pura Elegancia; C...|\n",
      "|      Hip Hop/Rap|ZeroVinteUm; Quei...|\n",
      "|         TV Shows|Occupation / Prec...|\n",
      "|       Bossa Nova|Samba Da Bênção; ...|\n",
      "|            Latin|Jorge Da Capadóci...|\n",
      "| Sci Fi & Fantasy|Crossroads, Pt. 1...|\n",
      "|            Metal|Enter Sandman; Ma...|\n",
      "|             Rock|For Those About T...|\n",
      "|             Jazz|Desafinado; Garot...|\n",
      "|         R&B/Soul|Please Please Ple...|\n",
      "|            Drama|Don't Look Back; ...|\n",
      "|       Soundtrack|Vai-Vai 2001; X-9...|\n",
      "|Electronica/Dance|Just Another Stor...|\n",
      "|        Classical|Symphony No. 3 in...|\n",
      "|            Blues|First Time I Met ...|\n",
      "|      Alternative|War Pigs; Say Hel...|\n",
      "|    Rock And Roll|Money; Long Tall ...|\n",
      "|  Science Fiction|Battlestar Galact...|\n",
      "|              Pop|Dig-Dig, Lambe-La...|\n",
      "|      Heavy Metal|Wildest Dreams; R...|\n",
      "+-----------------+--------------------+\n",
      "only showing top 20 rows\n",
      "\n"
     ]
    }
   ],
   "source": [
    "# 3. Get a list of tracks from a specific genre (e.g., “Rock”).\n",
    "\n",
    "q3_df = track_df.alias(\"t\").join(genre_df.alias(\"g\"), col(\"t.GenreId\")==col(\"g.GenreId\"), \"inner\")\\\n",
    "    .groupBy(col(\"g.name\").alias(\"Genre\")).agg(concat_ws(\"; \", collect_list(col(\"t.name\"))).alias(\"Tracks\"))\\\n",
    "    .show()"
   ]
  },
  {
   "cell_type": "code",
   "execution_count": 13,
   "metadata": {},
   "outputs": [
    {
     "name": "stdout",
     "output_type": "stream",
     "text": [
      "+----------+---------+------------------+\n",
      "|customerid|firstname|count(i.invoiceid)|\n",
      "+----------+---------+------------------+\n",
      "|        31|   Martha|                 7|\n",
      "|        53|     Phil|                 7|\n",
      "|        34|     João|                 7|\n",
      "|        28|    Julia|                 7|\n",
      "|        26|  Richard|                 7|\n",
      "|        27|  Patrick|                 7|\n",
      "|        44|    Terhi|                 7|\n",
      "|        12|  Roberto|                 7|\n",
      "|        22|  Heather|                 7|\n",
      "|        47|    Lucas|                 7|\n",
      "|         1|     Luís|                 7|\n",
      "|        52|     Emma|                 7|\n",
      "|        13| Fernanda|                 7|\n",
      "|         6|   Helena|                 7|\n",
      "|        16|    Frank|                 7|\n",
      "|         3| François|                 7|\n",
      "|        20|      Dan|                 7|\n",
      "|        40|Dominique|                 7|\n",
      "|        57|     Luis|                 7|\n",
      "|        54|    Steve|                 7|\n",
      "+----------+---------+------------------+\n",
      "only showing top 20 rows\n",
      "\n"
     ]
    }
   ],
   "source": [
    "# 4. Find the total number of invoices for each customer.\n",
    "\n",
    "q4_df = customer_df.alias(\"c\").join(invoice_df.alias(\"i\"), col(\"c.customerid\") == col(\"i.customerid\"), \"inner\")\\\n",
    "    .groupBy(col(\"c.customerid\"), col(\"c.firstname\"))\\\n",
    "    .agg(count(col(\"i.invoiceid\")))\\\n",
    "    .show()"
   ]
  },
  {
   "cell_type": "code",
   "execution_count": 12,
   "metadata": {},
   "outputs": [
    {
     "name": "stdout",
     "output_type": "stream",
     "text": [
      "+---------+--------------------+---------+\n",
      "|Album no.|          Album Name|   Length|\n",
      "+---------+--------------------+---------+\n",
      "|      148|         Black Album| 313268.7|\n",
      "|      243|The Best Of Van H...| 255881.2|\n",
      "|       31|          Bongo Fury| 273992.1|\n",
      "|       85|As Canções de Eu ...| 206159.7|\n",
      "|      137|The Song Remains ...| 588794.2|\n",
      "|      251|The Office, Season 3|1532683.8|\n",
      "|       65|        Stormbringer| 244119.7|\n",
      "|       53|        Vozes do MPB| 204191.3|\n",
      "|      255|Instant Karma: Th...| 223255.9|\n",
      "|      133|     Led Zeppelin II| 277652.1|\n",
      "|      296|A Copland Celebra...| 198064.0|\n",
      "|       78|        Deixa Entrar| 203032.6|\n",
      "|      322|               Frank| 275982.5|\n",
      "|      321|       Back to Black| 212004.2|\n",
      "|      108|   Rock In Rio [CD1]| 338658.8|\n",
      "|      155|           St. Anger| 409732.5|\n",
      "|       34|Chill: Brazil (Di...| 248321.1|\n",
      "|      193|Blood Sugar Sex M...| 261004.3|\n",
      "|      211|         The Singles| 214704.4|\n",
      "|      101|             Killers| 232369.1|\n",
      "+---------+--------------------+---------+\n",
      "only showing top 20 rows\n",
      "\n"
     ]
    }
   ],
   "source": [
    "# 5 .Display the average track length (milliseconds) for each album.\n",
    "\n",
    "q5_df = album_df.alias(\"al\").join(track_df.alias(\"t\"),col(\"al.albumid\") == col(\"t.albumid\"),\"inner\")\\\n",
    "    .groupBy(col(\"al.albumid\").alias(\"Album no.\"), col(\"al.title\").alias(\"Album Name\"))\\\n",
    "    .agg(round(avg(col(\"t.milliseconds\")), 1).alias(\"Length\"))\\\n",
    "    .show()"
   ]
  },
  {
   "cell_type": "code",
   "execution_count": 8,
   "metadata": {},
   "outputs": [
    {
     "name": "stdout",
     "output_type": "stream",
     "text": [
      "+----------+---------+---------+--------------+\n",
      "|customerid|firstname|invoiceid|billingcountry|\n",
      "+----------+---------+---------+--------------+\n",
      "|        28|    Julia|       71|           USA|\n",
      "|        28|    Julia|       82|           USA|\n",
      "|        28|    Julia|      137|           USA|\n",
      "|        28|    Julia|      266|           USA|\n",
      "|        28|    Julia|      289|           USA|\n",
      "|        28|    Julia|      311|           USA|\n",
      "|        28|    Julia|      363|           USA|\n",
      "|        27|  Patrick|       39|           USA|\n",
      "|        26|  Richard|       70|           USA|\n",
      "|        26|  Richard|       93|           USA|\n",
      "|        26|  Richard|      115|           USA|\n",
      "|        26|  Richard|      167|           USA|\n",
      "|        27|  Patrick|      168|           USA|\n",
      "|        27|  Patrick|      191|           USA|\n",
      "|        27|  Patrick|      213|           USA|\n",
      "|        27|  Patrick|      265|           USA|\n",
      "|        26|  Richard|      288|           USA|\n",
      "|        26|  Richard|      299|           USA|\n",
      "|        26|  Richard|      354|           USA|\n",
      "|        27|  Patrick|      386|           USA|\n",
      "+----------+---------+---------+--------------+\n",
      "only showing top 20 rows\n",
      "\n"
     ]
    }
   ],
   "source": [
    "# 6. Retrieve all customers from the “USA” and their invoices.\n",
    "\n",
    "q6_df = customer_df.alias(\"c\").join(invoice_df.alias(\"i\"), col(\"c.customerid\") == col(\"i.customerid\"), \"inner\")\\\n",
    "    .select(col(\"c.customerid\"), col(\"c.firstname\"), col(\"i.invoiceid\"), col(\"i.billingcountry\"))\\\n",
    "    .where(upper(col(\"i.billingcountry\")) == \"USA\")\\\n",
    "    .show()"
   ]
  },
  {
   "cell_type": "code",
   "execution_count": 14,
   "metadata": {},
   "outputs": [
    {
     "name": "stdout",
     "output_type": "stream",
     "text": [
      "+-----------------+------------+\n",
      "|            Genre|no_of_tracks|\n",
      "+-----------------+------------+\n",
      "|            World|          28|\n",
      "|      Hip Hop/Rap|          35|\n",
      "|         TV Shows|          93|\n",
      "|       Bossa Nova|          15|\n",
      "|            Latin|         579|\n",
      "| Sci Fi & Fantasy|          26|\n",
      "|            Metal|         374|\n",
      "|             Rock|        1297|\n",
      "|             Jazz|         130|\n",
      "|         R&B/Soul|          61|\n",
      "|            Drama|          64|\n",
      "|       Soundtrack|          43|\n",
      "|Electronica/Dance|          30|\n",
      "|        Classical|          74|\n",
      "|            Blues|          81|\n",
      "|      Alternative|          40|\n",
      "|    Rock And Roll|          12|\n",
      "|  Science Fiction|          13|\n",
      "|              Pop|          48|\n",
      "|      Heavy Metal|          28|\n",
      "+-----------------+------------+\n",
      "only showing top 20 rows\n",
      "\n"
     ]
    }
   ],
   "source": [
    "# 7. Show the total number of tracks in each genre.\n",
    "\n",
    "q7_df = genre_df.alias(\"g\").join(track_df.alias(\"t\"), col(\"g.genreid\") == col(\"t.genreid\"), \"inner\")\\\n",
    "    .groupBy(col(\"g.name\").alias(\"Genre\")) \\\n",
    "    .agg(count(col(\"t.trackid\")).alias(\"no_of_tracks\"))\\\n",
    "    .show()"
   ]
  },
  {
   "cell_type": "code",
   "execution_count": 17,
   "metadata": {},
   "outputs": [
    {
     "name": "stdout",
     "output_type": "stream",
     "text": [
      "+--------------------+--------------------+\n",
      "|               Album|              Tracks|\n",
      "+--------------------+--------------------+\n",
      "|...And Justice Fo...|Blackened; ...And...|\n",
      "|20th Century Mast...|Rock You Like a H...|\n",
      "|A Copland Celebra...|Fanfare for the C...|\n",
      "|A Matter of Life ...|Different World; ...|\n",
      "|     A Real Dead One|The Number Of The...|\n",
      "|     A Real Live One|Be Quick Or Be De...|\n",
      "|  A Soprano Inspired|           Ave Maria|\n",
      "|A TempestadeTempe...|Natália; L'Avvent...|\n",
      "|             A-Sides|Nothing To Say; F...|\n",
      "|       Ace Of Spades|Ace Of Spades; Lo...|\n",
      "|        Achtung Baby|Zoo Station; Even...|\n",
      "|            Acústico|Comida; Go Back; ...|\n",
      "|        Acústico MTV|Vulcão Dub - Fui ...|\n",
      "| Acústico MTV [Live]|Girassol; A Sombr...|\n",
      "|Adams, John: The ...|Two Fanfares for ...|\n",
      "|Adorate Deum: Gre...|Intoitus: Adorate...|\n",
      "|      Afrociberdelia|Mateus Enter; O C...|\n",
      "|   Album Of The Year|Collision; Strips...|\n",
      "|Alcohol Fueled Br...|Intro/ Low Down; ...|\n",
      "|Alcohol Fueled Br...|Heart Of Gold; Sn...|\n",
      "+--------------------+--------------------+\n",
      "only showing top 20 rows\n",
      "\n"
     ]
    }
   ],
   "source": [
    "# 8. List all tracks for a specific album (e.g., \"Abbey Road\").\n",
    "\n",
    "q8_df = album_df.alias(\"al\").join(track_df.alias(\"t\"), col(\"al.albumid\") == col(\"t.albumid\"), \"inner\")\\\n",
    "    .groupBy(col(\"al.title\").alias(\"Album\")) \\\n",
    "    .agg(concat_ws(\"; \", collect_list(col(\"t.name\"))).alias(\"Tracks\")) \\\n",
    "    .show()\n"
   ]
  },
  {
   "cell_type": "code",
   "execution_count": 44,
   "metadata": {},
   "outputs": [
    {
     "name": "stdout",
     "output_type": "stream",
     "text": [
      "+----------+\n",
      "|customerid|\n",
      "+----------+\n",
      "|        60|\n",
      "+----------+\n",
      "\n"
     ]
    }
   ],
   "source": [
    "# 9. Find customers who have not placed any invoices.\n",
    "\n",
    "q9_df = customer_df.alias(\"c\").join(invoice_df.alias(\"i\"), col(\"c.customerid\") == col(\"i.customerid\"), \"leftanti\").select(col(\"c.customerid\")).show()"
   ]
  },
  {
   "cell_type": "code",
   "execution_count": 47,
   "metadata": {},
   "outputs": [
    {
     "name": "stdout",
     "output_type": "stream",
     "text": [
      "+------------------+------------+\n",
      "|             Genre|Total_tracks|\n",
      "+------------------+------------+\n",
      "|              Rock|        1297|\n",
      "|             Latin|         579|\n",
      "|             Metal|         374|\n",
      "|Alternative & Punk|         332|\n",
      "|              Jazz|         130|\n",
      "|          TV Shows|          93|\n",
      "|             Blues|          81|\n",
      "|         Classical|          74|\n",
      "|             Drama|          64|\n",
      "|          R&B/Soul|          61|\n",
      "|            Reggae|          58|\n",
      "|               Pop|          48|\n",
      "|        Soundtrack|          43|\n",
      "|       Alternative|          40|\n",
      "|       Hip Hop/Rap|          35|\n",
      "| Electronica/Dance|          30|\n",
      "|             World|          28|\n",
      "|       Heavy Metal|          28|\n",
      "|  Sci Fi & Fantasy|          26|\n",
      "|    Easy Listening|          24|\n",
      "+------------------+------------+\n",
      "only showing top 20 rows\n",
      "\n"
     ]
    }
   ],
   "source": [
    "# 10. Retrieve the most popular genres by total number of tracks.\n",
    "\n",
    "q10_df = genre_df.alias(\"g\").join(track_df.alias(\"t\"), col(\"g.genreid\") == col(\"t.genreid\"), \"inner\") \\\n",
    "    .groupBy(col(\"g.name\").alias(\"Genre\")) \\\n",
    "    .agg(count(col(\"t.trackid\")).alias(\"Total_tracks\"))\\\n",
    "    .orderBy(desc(\"Total_tracks\"))\\\n",
    "    .show()"
   ]
  },
  {
   "cell_type": "code",
   "execution_count": 5,
   "metadata": {},
   "outputs": [],
   "source": [
    "#spark.stop()"
   ]
  }
 ],
 "metadata": {
  "kernelspec": {
   "display_name": "suddata",
   "language": "python",
   "name": "python3"
  },
  "language_info": {
   "codemirror_mode": {
    "name": "ipython",
    "version": 3
   },
   "file_extension": ".py",
   "mimetype": "text/x-python",
   "name": "python",
   "nbconvert_exporter": "python",
   "pygments_lexer": "ipython3",
   "version": "3.12.0"
  }
 },
 "nbformat": 4,
 "nbformat_minor": 2
}
