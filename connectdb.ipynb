{
 "cells": [
  {
   "cell_type": "code",
   "execution_count": 12,
   "metadata": {},
   "outputs": [],
   "source": [
    "from pyspark import SparkContext, SparkConf, SQLContext\n",
    "from pyspark.sql.functions import col, sum, concat_ws, collect_list\n",
    "import os\n",
    "from dotenv import load_dotenv"
   ]
  },
  {
   "cell_type": "code",
   "execution_count": 3,
   "metadata": {},
   "outputs": [
    {
     "name": "stderr",
     "output_type": "stream",
     "text": [
      "c:\\Users\\sudip\\anaconda3\\envs\\suddata\\Lib\\site-packages\\pyspark\\sql\\context.py:113: FutureWarning: Deprecated in 3.0.0. Use SparkSession.builder.getOrCreate() instead.\n",
      "  warnings.warn(\n"
     ]
    }
   ],
   "source": [
    "# CREATE SPARK SESSION (DEPRECATED BUT WORKING)\n",
    "\n",
    "appName = \"PySpark SQL Server Example - via JDBC\"\n",
    "master = \"local\"\n",
    "conf = SparkConf().setAppName(appName).setMaster(master).set(\"spark.driver.extraClassPath\", \"C:/spark/sqljdbc_12.8/enu/jars/mssql-jdbc-12.8.1.jre11.jar\")\n",
    "sc = SparkContext(conf=conf)\n",
    "sqlContext = SQLContext(sc)\n",
    "spark = sqlContext.sparkSession"
   ]
  },
  {
   "cell_type": "code",
   "execution_count": 13,
   "metadata": {},
   "outputs": [],
   "source": [
    "# VARIABLES NEEDED TO MAKE CONNECTION AND TABLE NAMES\n",
    "database = os.environ.get(\"DATABASE\")\n",
    "user = os.environ.get(\"USER\")\n",
    "password = os.environ.get(\"PASS\")\n",
    "port = os.environ.get(\"PORT\")\n",
    "server = os.environ.get(\"SERVER\")\n",
    "jdbc_url = f\"jdbc:sqlserver://{server}:{port};databaseName={database};encrypt=true;trustServerCertificate=true\"\n",
    "\n",
    "os.environ.get(\"JDBC_URL\")\n",
    "\n",
    "album, artist, customer, employee, genre, invoice, invoice_line, media_type, playlist, playlist_track, track = \"dbo.Album\", \"dbo.Artist\",\\\n",
    "    \"dbo.Customer\", \"dbo.Employee\", \"dbo.Genre\",\\\n",
    "    \"dbo.Invoice\", \"dbo.InvoiceLine\", \"dbo.MediaType\",\\\n",
    "    \"dbo.Playlist\", \"dbo.PlaylistTrack\", \"dbo.Track\""
   ]
  },
  {
   "cell_type": "code",
   "execution_count": 14,
   "metadata": {},
   "outputs": [
    {
     "name": "stdout",
     "output_type": "stream",
     "text": [
      "jdbc:sqlserver://None:None;databaseName=Chinook;encrypt=true;trustServerCertificate=true\n",
      "SUDIPTOMW7\n"
     ]
    }
   ],
   "source": [
    "print(jdbc_url)\n",
    "print(user)"
   ]
  },
  {
   "cell_type": "code",
   "execution_count": 6,
   "metadata": {},
   "outputs": [
    {
     "ename": "Py4JJavaError",
     "evalue": "An error occurred while calling o37.load.\n: java.lang.NullPointerException\r\n\tat java.base/java.util.concurrent.ConcurrentHashMap.putVal(ConcurrentHashMap.java:1011)\r\n\tat java.base/java.util.concurrent.ConcurrentHashMap.put(ConcurrentHashMap.java:1006)\r\n\tat java.base/java.util.Properties.put(Properties.java:1329)\r\n\tat java.base/java.util.Properties.setProperty(Properties.java:229)\r\n\tat org.apache.spark.sql.execution.datasources.jdbc.JDBCOptions.$anonfun$asProperties$1(JDBCOptions.scala:54)\r\n\tat scala.collection.immutable.HashMap$HashMap1.foreach(HashMap.scala:400)\r\n\tat scala.collection.immutable.HashMap$HashTrieMap.foreach(HashMap.scala:728)\r\n\tat org.apache.spark.sql.execution.datasources.jdbc.JDBCOptions.<init>(JDBCOptions.scala:54)\r\n\tat org.apache.spark.sql.execution.datasources.jdbc.JDBCOptions.<init>(JDBCOptions.scala:41)\r\n\tat org.apache.spark.sql.execution.datasources.jdbc.JdbcRelationProvider.createRelation(JdbcRelationProvider.scala:34)\r\n\tat org.apache.spark.sql.execution.datasources.DataSource.resolveRelation(DataSource.scala:346)\r\n\tat org.apache.spark.sql.DataFrameReader.loadV1Source(DataFrameReader.scala:229)\r\n\tat org.apache.spark.sql.DataFrameReader.$anonfun$load$2(DataFrameReader.scala:211)\r\n\tat scala.Option.getOrElse(Option.scala:189)\r\n\tat org.apache.spark.sql.DataFrameReader.load(DataFrameReader.scala:211)\r\n\tat org.apache.spark.sql.DataFrameReader.load(DataFrameReader.scala:172)\r\n\tat java.base/jdk.internal.reflect.NativeMethodAccessorImpl.invoke0(Native Method)\r\n\tat java.base/jdk.internal.reflect.NativeMethodAccessorImpl.invoke(NativeMethodAccessorImpl.java:62)\r\n\tat java.base/jdk.internal.reflect.DelegatingMethodAccessorImpl.invoke(DelegatingMethodAccessorImpl.java:43)\r\n\tat java.base/java.lang.reflect.Method.invoke(Method.java:566)\r\n\tat py4j.reflection.MethodInvoker.invoke(MethodInvoker.java:244)\r\n\tat py4j.reflection.ReflectionEngine.invoke(ReflectionEngine.java:374)\r\n\tat py4j.Gateway.invoke(Gateway.java:282)\r\n\tat py4j.commands.AbstractCommand.invokeMethod(AbstractCommand.java:132)\r\n\tat py4j.commands.CallCommand.execute(CallCommand.java:79)\r\n\tat py4j.ClientServerConnection.waitForCommands(ClientServerConnection.java:182)\r\n\tat py4j.ClientServerConnection.run(ClientServerConnection.java:106)\r\n\tat java.base/java.lang.Thread.run(Thread.java:834)\r\n",
     "output_type": "error",
     "traceback": [
      "\u001b[1;31m---------------------------------------------------------------------------\u001b[0m",
      "\u001b[1;31mPy4JJavaError\u001b[0m                             Traceback (most recent call last)",
      "Cell \u001b[1;32mIn[6], line 4\u001b[0m\n\u001b[0;32m      1\u001b[0m \u001b[38;5;66;03m# CREATE DF FOR EACH TABLE USING JDBC\u001b[39;00m\n\u001b[0;32m      3\u001b[0m album_df \u001b[38;5;241m=\u001b[39m \u001b[43mspark\u001b[49m\u001b[38;5;241;43m.\u001b[39;49m\u001b[43mread\u001b[49m\u001b[38;5;241;43m.\u001b[39;49m\u001b[43mformat\u001b[49m\u001b[43m(\u001b[49m\u001b[38;5;124;43m\"\u001b[39;49m\u001b[38;5;124;43mjdbc\u001b[39;49m\u001b[38;5;124;43m\"\u001b[39;49m\u001b[43m)\u001b[49m\u001b[38;5;241;43m.\u001b[39;49m\u001b[43moption\u001b[49m\u001b[43m(\u001b[49m\u001b[38;5;124;43m\"\u001b[39;49m\u001b[38;5;124;43murl\u001b[39;49m\u001b[38;5;124;43m\"\u001b[39;49m\u001b[43m,\u001b[49m\u001b[43m \u001b[49m\u001b[43mjdbc_url\u001b[49m\u001b[43m)\u001b[49m\u001b[38;5;241;43m.\u001b[39;49m\u001b[43moption\u001b[49m\u001b[43m(\u001b[49m\u001b[38;5;124;43m\"\u001b[39;49m\u001b[38;5;124;43mdbtable\u001b[39;49m\u001b[38;5;124;43m\"\u001b[39;49m\u001b[43m,\u001b[49m\u001b[43m \u001b[49m\u001b[43malbum\u001b[49m\u001b[43m)\u001b[49m\u001b[38;5;241;43m.\u001b[39;49m\u001b[43moption\u001b[49m\u001b[43m(\u001b[49m\u001b[38;5;124;43m\"\u001b[39;49m\u001b[38;5;124;43muser\u001b[39;49m\u001b[38;5;124;43m\"\u001b[39;49m\u001b[43m,\u001b[49m\u001b[43m \u001b[49m\u001b[43muser\u001b[49m\u001b[43m)\u001b[49m\u001b[43m\\\u001b[49m\n\u001b[1;32m----> 4\u001b[0m \u001b[43m    \u001b[49m\u001b[38;5;241;43m.\u001b[39;49m\u001b[43moption\u001b[49m\u001b[43m(\u001b[49m\u001b[38;5;124;43m\"\u001b[39;49m\u001b[38;5;124;43mpassword\u001b[39;49m\u001b[38;5;124;43m\"\u001b[39;49m\u001b[43m,\u001b[49m\u001b[43m \u001b[49m\u001b[43mpassword\u001b[49m\u001b[43m)\u001b[49m\u001b[38;5;241;43m.\u001b[39;49m\u001b[43moption\u001b[49m\u001b[43m(\u001b[49m\u001b[38;5;124;43m\"\u001b[39;49m\u001b[38;5;124;43mdriver\u001b[39;49m\u001b[38;5;124;43m\"\u001b[39;49m\u001b[43m,\u001b[49m\u001b[43m \u001b[49m\u001b[38;5;124;43m\"\u001b[39;49m\u001b[38;5;124;43mcom.microsoft.sqlserver.jdbc.SQLServerDriver\u001b[39;49m\u001b[38;5;124;43m\"\u001b[39;49m\u001b[43m)\u001b[49m\u001b[38;5;241;43m.\u001b[39;49m\u001b[43mload\u001b[49m\u001b[43m(\u001b[49m\u001b[43m)\u001b[49m\n\u001b[0;32m      6\u001b[0m artist_df \u001b[38;5;241m=\u001b[39m spark\u001b[38;5;241m.\u001b[39mread\u001b[38;5;241m.\u001b[39mformat(\u001b[38;5;124m\"\u001b[39m\u001b[38;5;124mjdbc\u001b[39m\u001b[38;5;124m\"\u001b[39m)\u001b[38;5;241m.\u001b[39moption(\u001b[38;5;124m\"\u001b[39m\u001b[38;5;124murl\u001b[39m\u001b[38;5;124m\"\u001b[39m, jdbc_url)\u001b[38;5;241m.\u001b[39moption(\u001b[38;5;124m\"\u001b[39m\u001b[38;5;124mdbtable\u001b[39m\u001b[38;5;124m\"\u001b[39m, artist)\u001b[38;5;241m.\u001b[39moption(\u001b[38;5;124m\"\u001b[39m\u001b[38;5;124muser\u001b[39m\u001b[38;5;124m\"\u001b[39m, user)\\\n\u001b[0;32m      7\u001b[0m     \u001b[38;5;241m.\u001b[39moption(\u001b[38;5;124m\"\u001b[39m\u001b[38;5;124mpassword\u001b[39m\u001b[38;5;124m\"\u001b[39m, password)\u001b[38;5;241m.\u001b[39moption(\u001b[38;5;124m\"\u001b[39m\u001b[38;5;124mdriver\u001b[39m\u001b[38;5;124m\"\u001b[39m, \u001b[38;5;124m\"\u001b[39m\u001b[38;5;124mcom.microsoft.sqlserver.jdbc.SQLServerDriver\u001b[39m\u001b[38;5;124m\"\u001b[39m)\u001b[38;5;241m.\u001b[39mload()\n\u001b[0;32m      9\u001b[0m customer_df \u001b[38;5;241m=\u001b[39m spark\u001b[38;5;241m.\u001b[39mread\u001b[38;5;241m.\u001b[39mformat(\u001b[38;5;124m\"\u001b[39m\u001b[38;5;124mjdbc\u001b[39m\u001b[38;5;124m\"\u001b[39m)\u001b[38;5;241m.\u001b[39moption(\u001b[38;5;124m\"\u001b[39m\u001b[38;5;124murl\u001b[39m\u001b[38;5;124m\"\u001b[39m, jdbc_url)\u001b[38;5;241m.\u001b[39moption(\u001b[38;5;124m\"\u001b[39m\u001b[38;5;124mdbtable\u001b[39m\u001b[38;5;124m\"\u001b[39m, customer)\u001b[38;5;241m.\u001b[39moption(\u001b[38;5;124m\"\u001b[39m\u001b[38;5;124muser\u001b[39m\u001b[38;5;124m\"\u001b[39m, user)\\\n\u001b[0;32m     10\u001b[0m     \u001b[38;5;241m.\u001b[39moption(\u001b[38;5;124m\"\u001b[39m\u001b[38;5;124mpassword\u001b[39m\u001b[38;5;124m\"\u001b[39m, password)\u001b[38;5;241m.\u001b[39moption(\u001b[38;5;124m\"\u001b[39m\u001b[38;5;124mdriver\u001b[39m\u001b[38;5;124m\"\u001b[39m, \u001b[38;5;124m\"\u001b[39m\u001b[38;5;124mcom.microsoft.sqlserver.jdbc.SQLServerDriver\u001b[39m\u001b[38;5;124m\"\u001b[39m)\u001b[38;5;241m.\u001b[39mload()\n",
      "File \u001b[1;32mc:\\Users\\sudip\\anaconda3\\envs\\suddata\\Lib\\site-packages\\pyspark\\sql\\readwriter.py:314\u001b[0m, in \u001b[0;36mDataFrameReader.load\u001b[1;34m(self, path, format, schema, **options)\u001b[0m\n\u001b[0;32m    312\u001b[0m     \u001b[38;5;28;01mreturn\u001b[39;00m \u001b[38;5;28mself\u001b[39m\u001b[38;5;241m.\u001b[39m_df(\u001b[38;5;28mself\u001b[39m\u001b[38;5;241m.\u001b[39m_jreader\u001b[38;5;241m.\u001b[39mload(\u001b[38;5;28mself\u001b[39m\u001b[38;5;241m.\u001b[39m_spark\u001b[38;5;241m.\u001b[39m_sc\u001b[38;5;241m.\u001b[39m_jvm\u001b[38;5;241m.\u001b[39mPythonUtils\u001b[38;5;241m.\u001b[39mtoSeq(path)))\n\u001b[0;32m    313\u001b[0m \u001b[38;5;28;01melse\u001b[39;00m:\n\u001b[1;32m--> 314\u001b[0m     \u001b[38;5;28;01mreturn\u001b[39;00m \u001b[38;5;28mself\u001b[39m\u001b[38;5;241m.\u001b[39m_df(\u001b[38;5;28;43mself\u001b[39;49m\u001b[38;5;241;43m.\u001b[39;49m\u001b[43m_jreader\u001b[49m\u001b[38;5;241;43m.\u001b[39;49m\u001b[43mload\u001b[49m\u001b[43m(\u001b[49m\u001b[43m)\u001b[49m)\n",
      "File \u001b[1;32mc:\\Users\\sudip\\anaconda3\\envs\\suddata\\Lib\\site-packages\\py4j\\java_gateway.py:1322\u001b[0m, in \u001b[0;36mJavaMember.__call__\u001b[1;34m(self, *args)\u001b[0m\n\u001b[0;32m   1316\u001b[0m command \u001b[38;5;241m=\u001b[39m proto\u001b[38;5;241m.\u001b[39mCALL_COMMAND_NAME \u001b[38;5;241m+\u001b[39m\\\n\u001b[0;32m   1317\u001b[0m     \u001b[38;5;28mself\u001b[39m\u001b[38;5;241m.\u001b[39mcommand_header \u001b[38;5;241m+\u001b[39m\\\n\u001b[0;32m   1318\u001b[0m     args_command \u001b[38;5;241m+\u001b[39m\\\n\u001b[0;32m   1319\u001b[0m     proto\u001b[38;5;241m.\u001b[39mEND_COMMAND_PART\n\u001b[0;32m   1321\u001b[0m answer \u001b[38;5;241m=\u001b[39m \u001b[38;5;28mself\u001b[39m\u001b[38;5;241m.\u001b[39mgateway_client\u001b[38;5;241m.\u001b[39msend_command(command)\n\u001b[1;32m-> 1322\u001b[0m return_value \u001b[38;5;241m=\u001b[39m \u001b[43mget_return_value\u001b[49m\u001b[43m(\u001b[49m\n\u001b[0;32m   1323\u001b[0m \u001b[43m    \u001b[49m\u001b[43manswer\u001b[49m\u001b[43m,\u001b[49m\u001b[43m \u001b[49m\u001b[38;5;28;43mself\u001b[39;49m\u001b[38;5;241;43m.\u001b[39;49m\u001b[43mgateway_client\u001b[49m\u001b[43m,\u001b[49m\u001b[43m \u001b[49m\u001b[38;5;28;43mself\u001b[39;49m\u001b[38;5;241;43m.\u001b[39;49m\u001b[43mtarget_id\u001b[49m\u001b[43m,\u001b[49m\u001b[43m \u001b[49m\u001b[38;5;28;43mself\u001b[39;49m\u001b[38;5;241;43m.\u001b[39;49m\u001b[43mname\u001b[49m\u001b[43m)\u001b[49m\n\u001b[0;32m   1325\u001b[0m \u001b[38;5;28;01mfor\u001b[39;00m temp_arg \u001b[38;5;129;01min\u001b[39;00m temp_args:\n\u001b[0;32m   1326\u001b[0m     \u001b[38;5;28;01mif\u001b[39;00m \u001b[38;5;28mhasattr\u001b[39m(temp_arg, \u001b[38;5;124m\"\u001b[39m\u001b[38;5;124m_detach\u001b[39m\u001b[38;5;124m\"\u001b[39m):\n",
      "File \u001b[1;32mc:\\Users\\sudip\\anaconda3\\envs\\suddata\\Lib\\site-packages\\pyspark\\errors\\exceptions\\captured.py:179\u001b[0m, in \u001b[0;36mcapture_sql_exception.<locals>.deco\u001b[1;34m(*a, **kw)\u001b[0m\n\u001b[0;32m    177\u001b[0m \u001b[38;5;28;01mdef\u001b[39;00m \u001b[38;5;21mdeco\u001b[39m(\u001b[38;5;241m*\u001b[39ma: Any, \u001b[38;5;241m*\u001b[39m\u001b[38;5;241m*\u001b[39mkw: Any) \u001b[38;5;241m-\u001b[39m\u001b[38;5;241m>\u001b[39m Any:\n\u001b[0;32m    178\u001b[0m     \u001b[38;5;28;01mtry\u001b[39;00m:\n\u001b[1;32m--> 179\u001b[0m         \u001b[38;5;28;01mreturn\u001b[39;00m \u001b[43mf\u001b[49m\u001b[43m(\u001b[49m\u001b[38;5;241;43m*\u001b[39;49m\u001b[43ma\u001b[49m\u001b[43m,\u001b[49m\u001b[43m \u001b[49m\u001b[38;5;241;43m*\u001b[39;49m\u001b[38;5;241;43m*\u001b[39;49m\u001b[43mkw\u001b[49m\u001b[43m)\u001b[49m\n\u001b[0;32m    180\u001b[0m     \u001b[38;5;28;01mexcept\u001b[39;00m Py4JJavaError \u001b[38;5;28;01mas\u001b[39;00m e:\n\u001b[0;32m    181\u001b[0m         converted \u001b[38;5;241m=\u001b[39m convert_exception(e\u001b[38;5;241m.\u001b[39mjava_exception)\n",
      "File \u001b[1;32mc:\\Users\\sudip\\anaconda3\\envs\\suddata\\Lib\\site-packages\\py4j\\protocol.py:326\u001b[0m, in \u001b[0;36mget_return_value\u001b[1;34m(answer, gateway_client, target_id, name)\u001b[0m\n\u001b[0;32m    324\u001b[0m value \u001b[38;5;241m=\u001b[39m OUTPUT_CONVERTER[\u001b[38;5;28mtype\u001b[39m](answer[\u001b[38;5;241m2\u001b[39m:], gateway_client)\n\u001b[0;32m    325\u001b[0m \u001b[38;5;28;01mif\u001b[39;00m answer[\u001b[38;5;241m1\u001b[39m] \u001b[38;5;241m==\u001b[39m REFERENCE_TYPE:\n\u001b[1;32m--> 326\u001b[0m     \u001b[38;5;28;01mraise\u001b[39;00m Py4JJavaError(\n\u001b[0;32m    327\u001b[0m         \u001b[38;5;124m\"\u001b[39m\u001b[38;5;124mAn error occurred while calling \u001b[39m\u001b[38;5;132;01m{0}\u001b[39;00m\u001b[38;5;132;01m{1}\u001b[39;00m\u001b[38;5;132;01m{2}\u001b[39;00m\u001b[38;5;124m.\u001b[39m\u001b[38;5;130;01m\\n\u001b[39;00m\u001b[38;5;124m\"\u001b[39m\u001b[38;5;241m.\u001b[39m\n\u001b[0;32m    328\u001b[0m         \u001b[38;5;28mformat\u001b[39m(target_id, \u001b[38;5;124m\"\u001b[39m\u001b[38;5;124m.\u001b[39m\u001b[38;5;124m\"\u001b[39m, name), value)\n\u001b[0;32m    329\u001b[0m \u001b[38;5;28;01melse\u001b[39;00m:\n\u001b[0;32m    330\u001b[0m     \u001b[38;5;28;01mraise\u001b[39;00m Py4JError(\n\u001b[0;32m    331\u001b[0m         \u001b[38;5;124m\"\u001b[39m\u001b[38;5;124mAn error occurred while calling \u001b[39m\u001b[38;5;132;01m{0}\u001b[39;00m\u001b[38;5;132;01m{1}\u001b[39;00m\u001b[38;5;132;01m{2}\u001b[39;00m\u001b[38;5;124m. Trace:\u001b[39m\u001b[38;5;130;01m\\n\u001b[39;00m\u001b[38;5;132;01m{3}\u001b[39;00m\u001b[38;5;130;01m\\n\u001b[39;00m\u001b[38;5;124m\"\u001b[39m\u001b[38;5;241m.\u001b[39m\n\u001b[0;32m    332\u001b[0m         \u001b[38;5;28mformat\u001b[39m(target_id, \u001b[38;5;124m\"\u001b[39m\u001b[38;5;124m.\u001b[39m\u001b[38;5;124m\"\u001b[39m, name, value))\n",
      "\u001b[1;31mPy4JJavaError\u001b[0m: An error occurred while calling o37.load.\n: java.lang.NullPointerException\r\n\tat java.base/java.util.concurrent.ConcurrentHashMap.putVal(ConcurrentHashMap.java:1011)\r\n\tat java.base/java.util.concurrent.ConcurrentHashMap.put(ConcurrentHashMap.java:1006)\r\n\tat java.base/java.util.Properties.put(Properties.java:1329)\r\n\tat java.base/java.util.Properties.setProperty(Properties.java:229)\r\n\tat org.apache.spark.sql.execution.datasources.jdbc.JDBCOptions.$anonfun$asProperties$1(JDBCOptions.scala:54)\r\n\tat scala.collection.immutable.HashMap$HashMap1.foreach(HashMap.scala:400)\r\n\tat scala.collection.immutable.HashMap$HashTrieMap.foreach(HashMap.scala:728)\r\n\tat org.apache.spark.sql.execution.datasources.jdbc.JDBCOptions.<init>(JDBCOptions.scala:54)\r\n\tat org.apache.spark.sql.execution.datasources.jdbc.JDBCOptions.<init>(JDBCOptions.scala:41)\r\n\tat org.apache.spark.sql.execution.datasources.jdbc.JdbcRelationProvider.createRelation(JdbcRelationProvider.scala:34)\r\n\tat org.apache.spark.sql.execution.datasources.DataSource.resolveRelation(DataSource.scala:346)\r\n\tat org.apache.spark.sql.DataFrameReader.loadV1Source(DataFrameReader.scala:229)\r\n\tat org.apache.spark.sql.DataFrameReader.$anonfun$load$2(DataFrameReader.scala:211)\r\n\tat scala.Option.getOrElse(Option.scala:189)\r\n\tat org.apache.spark.sql.DataFrameReader.load(DataFrameReader.scala:211)\r\n\tat org.apache.spark.sql.DataFrameReader.load(DataFrameReader.scala:172)\r\n\tat java.base/jdk.internal.reflect.NativeMethodAccessorImpl.invoke0(Native Method)\r\n\tat java.base/jdk.internal.reflect.NativeMethodAccessorImpl.invoke(NativeMethodAccessorImpl.java:62)\r\n\tat java.base/jdk.internal.reflect.DelegatingMethodAccessorImpl.invoke(DelegatingMethodAccessorImpl.java:43)\r\n\tat java.base/java.lang.reflect.Method.invoke(Method.java:566)\r\n\tat py4j.reflection.MethodInvoker.invoke(MethodInvoker.java:244)\r\n\tat py4j.reflection.ReflectionEngine.invoke(ReflectionEngine.java:374)\r\n\tat py4j.Gateway.invoke(Gateway.java:282)\r\n\tat py4j.commands.AbstractCommand.invokeMethod(AbstractCommand.java:132)\r\n\tat py4j.commands.CallCommand.execute(CallCommand.java:79)\r\n\tat py4j.ClientServerConnection.waitForCommands(ClientServerConnection.java:182)\r\n\tat py4j.ClientServerConnection.run(ClientServerConnection.java:106)\r\n\tat java.base/java.lang.Thread.run(Thread.java:834)\r\n"
     ]
    }
   ],
   "source": [
    "# CREATE DF FOR EACH TABLE USING JDBC\n",
    "\n",
    "album_df = spark.read.format(\"jdbc\").option(\"url\", jdbc_url).option(\"dbtable\", album).option(\"user\", user)\\\n",
    "    .option(\"password\", password).option(\"driver\", \"com.microsoft.sqlserver.jdbc.SQLServerDriver\").load()\n",
    "\n",
    "artist_df = spark.read.format(\"jdbc\").option(\"url\", jdbc_url).option(\"dbtable\", artist).option(\"user\", user)\\\n",
    "    .option(\"password\", password).option(\"driver\", \"com.microsoft.sqlserver.jdbc.SQLServerDriver\").load()\n",
    "\n",
    "customer_df = spark.read.format(\"jdbc\").option(\"url\", jdbc_url).option(\"dbtable\", customer).option(\"user\", user)\\\n",
    "    .option(\"password\", password).option(\"driver\", \"com.microsoft.sqlserver.jdbc.SQLServerDriver\").load()\n",
    "\n",
    "employee_df = spark.read.format(\"jdbc\").option(\"url\", jdbc_url).option(\"dbtable\", employee).option(\"user\", user)\\\n",
    "    .option(\"password\", password).option(\"driver\", \"com.microsoft.sqlserver.jdbc.SQLServerDriver\").load()\n",
    "\n",
    "genre_df = spark.read.format(\"jdbc\").option(\"url\", jdbc_url).option(\"dbtable\", genre).option(\"user\", user)\\\n",
    "    .option(\"password\", password).option(\"driver\", \"com.microsoft.sqlserver.jdbc.SQLServerDriver\").load()\n",
    "\n",
    "invoice_df = spark.read.format(\"jdbc\").option(\"url\", jdbc_url).option(\"dbtable\", invoice).option(\"user\", user)\\\n",
    "    .option(\"password\", password).option(\"driver\", \"com.microsoft.sqlserver.jdbc.SQLServerDriver\").load()\n",
    "\n",
    "invoice_line_df = spark.read.format(\"jdbc\").option(\"url\", jdbc_url).option(\"dbtable\", invoice_line).option(\"user\", user)\\\n",
    "    .option(\"password\", password).option(\"driver\", \"com.microsoft.sqlserver.jdbc.SQLServerDriver\").load()\n",
    "\n",
    "media_type_df = spark.read.format(\"jdbc\").option(\"url\", jdbc_url).option(\"dbtable\", media_type).option(\"user\", user)\\\n",
    "    .option(\"password\", password).option(\"driver\", \"com.microsoft.sqlserver.jdbc.SQLServerDriver\").load()\n",
    "\n",
    "playlist_df = spark.read.format(\"jdbc\").option(\"url\", jdbc_url).option(\"dbtable\", playlist).option(\"user\", user)\\\n",
    "    .option(\"password\", password).option(\"driver\", \"com.microsoft.sqlserver.jdbc.SQLServerDriver\").load()\n",
    "\n",
    "playlist_track_df = spark.read.format(\"jdbc\").option(\"url\", jdbc_url).option(\"dbtable\", playlist_track).option(\"user\", user)\\\n",
    "    .option(\"password\", password).option(\"driver\", \"com.microsoft.sqlserver.jdbc.SQLServerDriver\").load()\n",
    "\n",
    "track_df = spark.read.format(\"jdbc\").option(\"url\", jdbc_url).option(\"dbtable\", track).option(\"user\", user)\\\n",
    "    .option(\"password\", password).option(\"driver\", \"com.microsoft.sqlserver.jdbc.SQLServerDriver\").load()\n"
   ]
  },
  {
   "cell_type": "markdown",
   "metadata": {},
   "source": [
    "EASY"
   ]
  },
  {
   "cell_type": "code",
   "execution_count": 53,
   "metadata": {},
   "outputs": [
    {
     "name": "stdout",
     "output_type": "stream",
     "text": [
      "+--------+-----------+\n",
      "|Customer|Total_Sales|\n",
      "+--------+-----------+\n",
      "|      31|      37.62|\n",
      "|      53|      37.62|\n",
      "|      34|      39.62|\n",
      "|      28|      43.62|\n",
      "|      27|      37.62|\n",
      "|      26|      47.62|\n",
      "|      44|      41.62|\n",
      "|      12|      37.62|\n",
      "|      22|      39.62|\n",
      "|      47|      37.62|\n",
      "|       1|      39.62|\n",
      "|      52|      37.62|\n",
      "|      13|      37.62|\n",
      "|      16|      37.62|\n",
      "|       6|      49.62|\n",
      "|       3|      39.62|\n",
      "|      40|      38.62|\n",
      "|      20|      39.62|\n",
      "|      57|      46.62|\n",
      "|      54|      37.62|\n",
      "+--------+-----------+\n",
      "only showing top 20 rows\n",
      "\n"
     ]
    }
   ],
   "source": [
    "# 1. Retrieve the total sales (invoiced amount) for each customer.\n",
    "\n",
    "q1_df = customer_df.alias(\"c\").join(invoice_df.alias(\"i\"), col(\"c.CustomerId\") == col(\"i.CustomerId\"), \"inner\")\\\n",
    "    .groupBy(col(\"c.CustomerId\").alias(\"Customer\"))\\\n",
    "    .agg(sum(col(\"i.Total\")).alias(\"Total_Sales\"))\\\n",
    "    .show()"
   ]
  },
  {
   "cell_type": "code",
   "execution_count": 61,
   "metadata": {},
   "outputs": [
    {
     "name": "stdout",
     "output_type": "stream",
     "text": [
      "+--------+--------------------+--------------------+\n",
      "|ArtistId|                Name|              Albums|\n",
      "+--------+--------------------+--------------------+\n",
      "|       1|               AC/DC|For Those About T...|\n",
      "|       2|              Accept|Balls to the Wall...|\n",
      "|       3|           Aerosmith|            Big Ones|\n",
      "|       4|   Alanis Morissette|  Jagged Little Pill|\n",
      "|       5|     Alice In Chains|            Facelift|\n",
      "|       6|Antônio Carlos Jobim|Warner 25 Anos, C...|\n",
      "|       7|        Apocalyptica|Plays Metallica B...|\n",
      "|       8|          Audioslave|Audioslave, Out O...|\n",
      "|       9|            BackBeat| BackBeat Soundtrack|\n",
      "|      10|        Billy Cobham|The Best Of Billy...|\n",
      "|      11| Black Label Society|Alcohol Fueled Br...|\n",
      "|      12|       Black Sabbath|Black Sabbath, Bl...|\n",
      "|      13|          Body Count|          Body Count|\n",
      "|      14|     Bruce Dickinson|    Chemical Wedding|\n",
      "|      15|           Buddy Guy|The Best Of Buddy...|\n",
      "|      16|      Caetano Veloso|Prenda Minha, Soz...|\n",
      "|      17|       Chico Buarque|      Minha Historia|\n",
      "|      18|Chico Science & N...|Afrociberdelia, D...|\n",
      "|      19|        Cidade Negra|Acústico MTV [Liv...|\n",
      "|      20|        Cláudio Zoli|            Na Pista|\n",
      "+--------+--------------------+--------------------+\n",
      "only showing top 20 rows\n",
      "\n"
     ]
    }
   ],
   "source": [
    "# 2. List all albums by a specific artist (e.g., “Queen”).\n",
    "\n",
    "q2_df = artist_df.alias(\"ar\").join(album_df.alias(\"al\"), col(\"ar.ArtistId\") == col(\"al.ArtistId\"), \"inner\")\\\n",
    "    .groupBy(col(\"ar.ArtistId\"), col(\"ar.Name\"))\\\n",
    "    .agg(concat_ws(\", \", collect_list(col(\"al.Title\"))).alias(\"Albums\"))\\\n",
    "    .show()"
   ]
  },
  {
   "cell_type": "code",
   "execution_count": 65,
   "metadata": {},
   "outputs": [
    {
     "name": "stdout",
     "output_type": "stream",
     "text": [
      "+-----------------+--------------------+\n",
      "|            Genre|              Tracks|\n",
      "+-----------------+--------------------+\n",
      "|            World|Pura Elegancia; C...|\n",
      "|      Hip Hop/Rap|ZeroVinteUm; Quei...|\n",
      "|         TV Shows|Occupation / Prec...|\n",
      "|       Bossa Nova|Samba Da Bênção; ...|\n",
      "|            Latin|Jorge Da Capadóci...|\n",
      "| Sci Fi & Fantasy|Crossroads, Pt. 1...|\n",
      "|            Metal|Enter Sandman; Ma...|\n",
      "|             Rock|For Those About T...|\n",
      "|             Jazz|Desafinado; Garot...|\n",
      "|         R&B/Soul|Please Please Ple...|\n",
      "|            Drama|Don't Look Back; ...|\n",
      "|       Soundtrack|Vai-Vai 2001; X-9...|\n",
      "|Electronica/Dance|Just Another Stor...|\n",
      "|        Classical|Symphony No. 3 in...|\n",
      "|            Blues|First Time I Met ...|\n",
      "|      Alternative|War Pigs; Say Hel...|\n",
      "|    Rock And Roll|Money; Long Tall ...|\n",
      "|  Science Fiction|Battlestar Galact...|\n",
      "|              Pop|Dig-Dig, Lambe-La...|\n",
      "|      Heavy Metal|Wildest Dreams; R...|\n",
      "+-----------------+--------------------+\n",
      "only showing top 20 rows\n",
      "\n"
     ]
    }
   ],
   "source": [
    "# 3. Get a list of tracks from a specific genre (e.g., “Rock”).\n",
    "\n",
    "q3_df = track_df.alias(\"t\").join(genre_df.alias(\"g\"), col(\"t.GenreId\")==col(\"g.GenreId\"), \"inner\")\\\n",
    "    .groupBy(col(\"g.name\").alias(\"Genre\")).agg(concat_ws(\"; \", collect_list(col(\"t.name\"))).alias(\"Tracks\"))\\\n",
    "    .show()"
   ]
  },
  {
   "cell_type": "code",
   "execution_count": null,
   "metadata": {},
   "outputs": [],
   "source": [
    "# 4. Find the total number of invoices for each customer.\n",
    "\n"
   ]
  },
  {
   "cell_type": "code",
   "execution_count": null,
   "metadata": {},
   "outputs": [],
   "source": [
    "# 5 .Display the average track length (milliseconds) for each album.\n",
    "\n"
   ]
  },
  {
   "cell_type": "code",
   "execution_count": null,
   "metadata": {},
   "outputs": [],
   "source": [
    "# 6. Retrieve all customers from the “USA” and their invoices.\n",
    "\n"
   ]
  },
  {
   "cell_type": "code",
   "execution_count": null,
   "metadata": {},
   "outputs": [],
   "source": [
    "# 7. Show the total number of tracks in each genre.\n",
    "\n"
   ]
  },
  {
   "cell_type": "code",
   "execution_count": null,
   "metadata": {},
   "outputs": [],
   "source": [
    "# 8 .List all tracks from albums released in a specific year (e.g., 2010).\n",
    "\n"
   ]
  },
  {
   "cell_type": "code",
   "execution_count": null,
   "metadata": {},
   "outputs": [],
   "source": [
    "# 9. Find customers who have not placed any invoices.\n",
    "\n"
   ]
  },
  {
   "cell_type": "code",
   "execution_count": null,
   "metadata": {},
   "outputs": [],
   "source": [
    "# 10. Retrieve the most popular genres by total number of tracks.\n",
    "\n"
   ]
  },
  {
   "cell_type": "code",
   "execution_count": 5,
   "metadata": {},
   "outputs": [],
   "source": [
    "#spark.stop()"
   ]
  }
 ],
 "metadata": {
  "kernelspec": {
   "display_name": "suddata",
   "language": "python",
   "name": "python3"
  },
  "language_info": {
   "codemirror_mode": {
    "name": "ipython",
    "version": 3
   },
   "file_extension": ".py",
   "mimetype": "text/x-python",
   "name": "python",
   "nbconvert_exporter": "python",
   "pygments_lexer": "ipython3",
   "version": "3.12.0"
  }
 },
 "nbformat": 4,
 "nbformat_minor": 2
}
